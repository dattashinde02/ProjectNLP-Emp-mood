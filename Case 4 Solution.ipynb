{
 "cells": [
  {
   "cell_type": "markdown",
   "metadata": {},
   "source": [
    "# Scenario :\n",
    "\n",
    "'Suppose you are working as compliance data science analyst in a firm. One of your task is to monitor internal communications in order to better understand employees’ moods and assess any potential risks. You can leverage sentiment analysis technology which has become a form of risk management and is emerging as a useful risk control tool for a variety of businesses to identify and address regulatory risk issues, compliance problems and potential fraud.'\n",
    "\n",
    "\n",
    "# Dataset Description :\n",
    "\n",
    "You have received a dataset which contains 3 columns:\n",
    "- ID (Unique identifier for a sentence)\n",
    "- label (1-Positive & 0-Negative)\n",
    "- Text (Sentences)\n",
    "\n",
    "# Evaluation Criteria :\n",
    "\n",
    "1. This assignment has been divided in to 3 sections. Section 3 will be evaluated only if you score well in the section 1 and section 2. \n",
    "2. Write your codes only in the coding area. You can add more cells for your analysis.\n",
    "3. You can leverage R or Python programming language for solving the assignment.\n",
    "\n",
    "# Programming best practices :\n",
    "\n",
    "1. You need to explicitly import all the packages/libaries at the starting of the notebook.\n",
    "2. For any non trivial pieces of code, please write supporting comments.\n",
    "3. All the cells should run with no error.\n",
    "\n",
    "# Submission guidelines :\n",
    "\n",
    "There are 2 files you need to zip and attach:\n",
    "1. Final complied jupyter notebook.\n",
    "2. Save the Jupyter notebook as .html and attach the same."
   ]
  },
  {
   "cell_type": "markdown",
   "metadata": {},
   "source": [
    "################################################# Assignment start ###########################################################"
   ]
  },
  {
   "cell_type": "code",
   "execution_count": 12,
   "metadata": {},
   "outputs": [],
   "source": [
    "# import the necessary packages\n",
    "%matplotlib inline\n",
    "import pandas as pd\n",
    "import numpy as np\n",
    "from sklearn.metrics import  f1_score,accuracy_score\n",
    "from tensorflow.python.keras.preprocessing.text import Tokenizer\n",
    "from tensorflow.python.keras.preprocessing.sequence import pad_sequences\n",
    "from keras.models import Sequential\n",
    "from keras.layers import Dense, Embedding, LSTM, GRU\n",
    "from keras.layers.embeddings import Embedding\n",
    "from keras.initializers import Constant\n",
    "from numpy import loadtxt\n",
    "from keras.models import load_model"
   ]
  },
  {
   "cell_type": "code",
   "execution_count": 48,
   "metadata": {},
   "outputs": [
    {
     "name": "stderr",
     "output_type": "stream",
     "text": [
      "[nltk_data] Downloading package punkt to\n",
      "[nltk_data]     C:\\Users\\riya.agrawal\\AppData\\Roaming\\nltk_data...\n",
      "[nltk_data]   Package punkt is already up-to-date!\n",
      "[nltk_data] Downloading package stopwords to\n",
      "[nltk_data]     C:\\Users\\riya.agrawal\\AppData\\Roaming\\nltk_data...\n",
      "[nltk_data]   Package stopwords is already up-to-date!\n"
     ]
    }
   ],
   "source": [
    "import nltk\n",
    "nltk.download('punkt')\n",
    "from nltk.tokenize import word_tokenize\n",
    "nltk.download('stopwords')\n",
    "from nltk.corpus import stopwords\n",
    "import matplotlib.pyplot as plt\n",
    "import seaborn as sns"
   ]
  },
  {
   "cell_type": "code",
   "execution_count": 49,
   "metadata": {},
   "outputs": [
    {
     "name": "stdout",
     "output_type": "stream",
     "text": [
      "<class 'pandas.core.frame.DataFrame'>\n",
      "RangeIndex: 15428 entries, 0 to 15427\n",
      "Data columns (total 3 columns):\n",
      " #   Column  Non-Null Count  Dtype \n",
      "---  ------  --------------  ----- \n",
      " 0   Text    15420 non-null  object\n",
      " 1   label   15428 non-null  int64 \n",
      " 2   ID      15425 non-null  object\n",
      "dtypes: int64(1), object(2)\n",
      "memory usage: 361.7+ KB\n",
      "None\n"
     ]
    }
   ],
   "source": [
    "# Read the dataset and print the schema\n",
    "\n",
    "harassment=pd.read_csv(\"sentiment_data.csv\")\n",
    "print(harassment.info())"
   ]
  },
  {
   "cell_type": "code",
   "execution_count": 50,
   "metadata": {},
   "outputs": [
    {
     "data": {
      "text/html": [
       "<div>\n",
       "<style scoped>\n",
       "    .dataframe tbody tr th:only-of-type {\n",
       "        vertical-align: middle;\n",
       "    }\n",
       "\n",
       "    .dataframe tbody tr th {\n",
       "        vertical-align: top;\n",
       "    }\n",
       "\n",
       "    .dataframe thead th {\n",
       "        text-align: right;\n",
       "    }\n",
       "</style>\n",
       "<table border=\"1\" class=\"dataframe\">\n",
       "  <thead>\n",
       "    <tr style=\"text-align: right;\">\n",
       "      <th></th>\n",
       "      <th>Text</th>\n",
       "      <th>label</th>\n",
       "      <th>ID</th>\n",
       "    </tr>\n",
       "  </thead>\n",
       "  <tbody>\n",
       "    <tr>\n",
       "      <th>0</th>\n",
       "      <td>i didnt feel humiliated</td>\n",
       "      <td>0</td>\n",
       "      <td>W0</td>\n",
       "    </tr>\n",
       "    <tr>\n",
       "      <th>1</th>\n",
       "      <td>i can go from feeling so hopeless to so damned...</td>\n",
       "      <td>0</td>\n",
       "      <td>W1</td>\n",
       "    </tr>\n",
       "    <tr>\n",
       "      <th>2</th>\n",
       "      <td>im grabbing a minute to post i feel greedy wrong</td>\n",
       "      <td>0</td>\n",
       "      <td>W2</td>\n",
       "    </tr>\n",
       "    <tr>\n",
       "      <th>3</th>\n",
       "      <td>i am ever feeling nostalgic about the fireplac...</td>\n",
       "      <td>1</td>\n",
       "      <td>W3</td>\n",
       "    </tr>\n",
       "    <tr>\n",
       "      <th>4</th>\n",
       "      <td>i am feeling grouchy</td>\n",
       "      <td>0</td>\n",
       "      <td>W4</td>\n",
       "    </tr>\n",
       "  </tbody>\n",
       "</table>\n",
       "</div>"
      ],
      "text/plain": [
       "                                                Text  label  ID\n",
       "0                            i didnt feel humiliated      0  W0\n",
       "1  i can go from feeling so hopeless to so damned...      0  W1\n",
       "2   im grabbing a minute to post i feel greedy wrong      0  W2\n",
       "3  i am ever feeling nostalgic about the fireplac...      1  W3\n",
       "4                               i am feeling grouchy      0  W4"
      ]
     },
     "execution_count": 50,
     "metadata": {},
     "output_type": "execute_result"
    }
   ],
   "source": [
    "harassment.head()"
   ]
  },
  {
   "cell_type": "markdown",
   "metadata": {},
   "source": [
    "### Section 1"
   ]
  },
  {
   "cell_type": "markdown",
   "metadata": {},
   "source": [
    "#### Q1. How many Unique Ids are there in the dataset ?  ( *Look for exact answer)"
   ]
  },
  {
   "cell_type": "code",
   "execution_count": 15,
   "metadata": {},
   "outputs": [
    {
     "data": {
      "text/plain": [
       "15423"
      ]
     },
     "execution_count": 15,
     "metadata": {},
     "output_type": "execute_result"
    }
   ],
   "source": [
    "#get unique ids in the dataset\n",
    "\n",
    "harassment[\"ID\"].nunique()"
   ]
  },
  {
   "cell_type": "markdown",
   "metadata": {},
   "source": [
    "Unique Ids in the dataset are: 15423"
   ]
  },
  {
   "cell_type": "markdown",
   "metadata": {},
   "source": [
    "#### Q2. How many total missing values are there across all columns in the dataset?          ( *Look for exact answer)"
   ]
  },
  {
   "cell_type": "code",
   "execution_count": 16,
   "metadata": {},
   "outputs": [
    {
     "data": {
      "text/plain": [
       "Text     8\n",
       "label    0\n",
       "ID       3\n",
       "dtype: int64"
      ]
     },
     "execution_count": 16,
     "metadata": {},
     "output_type": "execute_result"
    }
   ],
   "source": [
    "#total missing values across columns\n",
    "\n",
    "harassment.isnull().sum()"
   ]
  },
  {
   "cell_type": "markdown",
   "metadata": {},
   "source": [
    "Total missing values across all the columns in the dataset are : 11"
   ]
  },
  {
   "cell_type": "markdown",
   "metadata": {},
   "source": [
    "#### Q3. How many rows are there in the dataset after dropping the rows containing the missing values and removing duplicates (keep first occurence in case of duplicates)? ( *Look for exact answer)"
   ]
  },
  {
   "cell_type": "code",
   "execution_count": 17,
   "metadata": {},
   "outputs": [
    {
     "data": {
      "text/plain": [
       "15417"
      ]
     },
     "execution_count": 17,
     "metadata": {},
     "output_type": "execute_result"
    }
   ],
   "source": [
    "#drop rows with missing values\n",
    "harassment.dropna(axis=0, inplace=True)\n",
    "\n",
    "#drop rows with duplicates\n",
    "harassment.drop_duplicates(keep='first', inplace=True)\n",
    "\n",
    "#number of rows\n",
    "harassment.shape[0]"
   ]
  },
  {
   "cell_type": "markdown",
   "metadata": {},
   "source": [
    "rows in the dataset after dropping the rows containing the missing values and removing duplicates are: 15417"
   ]
  },
  {
   "cell_type": "markdown",
   "metadata": {},
   "source": [
    "#### Q4. What is the percentage of positive labels in the dataset ? ( *Look for exact answer)"
   ]
  },
  {
   "cell_type": "code",
   "execution_count": 18,
   "metadata": {},
   "outputs": [
    {
     "data": {
      "text/plain": [
       "43.19906596614127"
      ]
     },
     "execution_count": 18,
     "metadata": {},
     "output_type": "execute_result"
    }
   ],
   "source": [
    "(harassment[\"label\"].sum()/harassment.shape[0])*100"
   ]
  },
  {
   "cell_type": "markdown",
   "metadata": {},
   "source": [
    "percentage of positive labels in the dataset is: 43.19"
   ]
  },
  {
   "cell_type": "code",
   "execution_count": 19,
   "metadata": {},
   "outputs": [
    {
     "name": "stdout",
     "output_type": "stream",
     "text": [
      "(15417,)\n",
      "(15417,)\n"
     ]
    }
   ],
   "source": [
    "# Create X and Y and print the shape\n",
    "\n",
    "X=harassment.Text\n",
    "y=harassment.label\n",
    "print(X.shape)\n",
    "print(y.shape)"
   ]
  },
  {
   "cell_type": "markdown",
   "metadata": {},
   "source": [
    "#### Q5. How many unique tokens are present in the dataset including stop words ? ( *Look for code and analysis)"
   ]
  },
  {
   "cell_type": "code",
   "execution_count": 20,
   "metadata": {},
   "outputs": [
    {
     "name": "stdout",
     "output_type": "stream",
     "text": [
      "14911\n"
     ]
    }
   ],
   "source": [
    "#create text corpus\n",
    "text = harassment.Text.str.cat(sep=' ')\n",
    "\n",
    "#tokenize the corpus\n",
    "tokens = word_tokenize(text)\n",
    "\n",
    "#get unique tokens \n",
    "uniq_tokens=set(tokens)\n",
    "\n",
    "#number of unique tokens in the text\n",
    "print(len(uniq_tokens))"
   ]
  },
  {
   "cell_type": "markdown",
   "metadata": {},
   "source": [
    "Unique Tokens including stop words: 14911"
   ]
  },
  {
   "cell_type": "markdown",
   "metadata": {},
   "source": [
    "#### Q6. How many unique tokens are present in the dataset excluding english stop words ? ( *Look for code and analysis)"
   ]
  },
  {
   "cell_type": "code",
   "execution_count": 22,
   "metadata": {},
   "outputs": [
    {
     "name": "stdout",
     "output_type": "stream",
     "text": [
      "14763\n"
     ]
    }
   ],
   "source": [
    "# get english stop words\n",
    "stop_words = set(stopwords.words('english'))\n",
    "\n",
    "#remove stopwords from the tokens\n",
    "tokens = [w for w in tokens if not w in stop_words]\n",
    "\n",
    "# get unique token excluding stopwords\n",
    "uniq_tokens_nostop=set(tokens)\n",
    "\n",
    "# unique tokens are present in the dataset excluding english stop words\n",
    "print(len(uniq_tokens_nostop))"
   ]
  },
  {
   "cell_type": "markdown",
   "metadata": {},
   "source": [
    "Unique Tokens excluding stop words: 14763"
   ]
  },
  {
   "cell_type": "markdown",
   "metadata": {},
   "source": [
    "### Section 2"
   ]
  },
  {
   "cell_type": "markdown",
   "metadata": {},
   "source": [
    "#### Q7. What is Zipf distribution and Plot Zipf distribution for 500 tokens in decreasing order including stop words ? ( *Look for descriptive answer, code and plot)"
   ]
  },
  {
   "cell_type": "markdown",
   "metadata": {},
   "source": [
    "The zeta distribution comes from Zipf’s law, which states that, given some corpus of natural language utterances, the frequency of any word is inversely proportional to its rank in the frequency table. Thus the most frequent word will occur approximately twice as often as the second most frequent word, three times as often as the third most frequent word, etc.\n",
    "The rank-frequency distribution is an inverse relationship."
   ]
  },
  {
   "cell_type": "code",
   "execution_count": 23,
   "metadata": {},
   "outputs": [],
   "source": [
    "# create rank-frequency lists for the text tokens including stop words\n",
    "\n",
    "tokens = word_tokenize(text)\n",
    "fd=nltk.FreqDist()\n",
    "ranks = []\n",
    "freqs = []\n",
    "for i in tokens:\n",
    "    fd[i] +=1\n",
    "for rank,word in enumerate(fd):\n",
    "    ranks.append(rank+1)\n",
    "    freqs.append(fd[word])"
   ]
  },
  {
   "cell_type": "code",
   "execution_count": 24,
   "metadata": {},
   "outputs": [
    {
     "data": {
      "text/plain": [
       "Text(0.5, 1.0, \"Zipf's Distribution\")"
      ]
     },
     "execution_count": 24,
     "metadata": {},
     "output_type": "execute_result"
    },
    {
     "data": {
      "image/png": "[encoded data removed]",
      "text/plain": [
       "<Figure size 720x504 with 1 Axes>"
      ]
     },
     "metadata": {
      "needs_background": "light"
     },
     "output_type": "display_data"
    }
   ],
   "source": [
    "#Plotting the Zipf distribution\n",
    "fig, ax = plt.subplots(figsize=(10, 7))\n",
    "\n",
    "#consider only top 500 tokens\n",
    "ax.plot(ranks[0:500],freqs[0:500])\n",
    "\n",
    "ax.set_xlabel('Rank')\n",
    "ax.set_ylabel('Frequency')\n",
    "ax.set_title(\"Zipf's Distribution\")\n"
   ]
  },
  {
   "cell_type": "markdown",
   "metadata": {},
   "source": [
    "#### Q8. Plot frequency disribution of top 50 tokens in negative data including stop words"
   ]
  },
  {
   "cell_type": "code",
   "execution_count": 25,
   "metadata": {},
   "outputs": [
    {
     "data": {
      "image/png": "[encoded data removed]",
      "text/plain": [
       "<Figure size 1080x360 with 1 Axes>"
      ]
     },
     "metadata": {
      "needs_background": "light"
     },
     "output_type": "display_data"
    }
   ],
   "source": [
    "#get negative data\n",
    "neg_data=harassment[harassment[\"label\"]==0]\n",
    "\n",
    "#create negative data corpus\n",
    "neg_text = neg_data.Text.str.cat(sep=' ')\n",
    "\n",
    "#get the tokens including stopwords\n",
    "neg_tokens = word_tokenize(neg_text)\n",
    "\n",
    "#get frequency distribution for the tokens\n",
    "neg_freq_dist = nltk.FreqDist(neg_tokens)\n",
    "\n",
    "#get top 50 tokens and their count\n",
    "labels = [element[0] for element in neg_freq_dist.most_common(50)]\n",
    "counts = [element[1] for element in neg_freq_dist.most_common(50)]\n",
    "\n",
    "#plot frequency distribution\n",
    "plt.figure(figsize=(15,5))\n",
    "plt.title(\"Top 50 Words in negative Corpus - Including STOPWORDS\")\n",
    "plt.ylabel(\"Count\")\n",
    "plt.xlabel(\"Word\")\n",
    "plt.xticks(rotation=45)\n",
    "plot = sns.barplot(labels,counts)\n"
   ]
  },
  {
   "cell_type": "markdown",
   "metadata": {},
   "source": [
    "#### Q9. Plot frequency disribution of top 50 tokens in positive data including stop words"
   ]
  },
  {
   "cell_type": "code",
   "execution_count": 26,
   "metadata": {},
   "outputs": [
    {
     "data": {
      "image/png": "[encoded data removed]",
      "text/plain": [
       "<Figure size 1080x360 with 1 Axes>"
      ]
     },
     "metadata": {
      "needs_background": "light"
     },
     "output_type": "display_data"
    }
   ],
   "source": [
    "#get positive data\n",
    "pos_data=harassment[harassment[\"label\"]==1]\n",
    "\n",
    "#create positive data corpus\n",
    "pos_text = pos_data.Text.str.cat(sep=' ')\n",
    "\n",
    "#get the tokens including stopwords\n",
    "pos_tokens = word_tokenize(pos_text)\n",
    "\n",
    "#get frequency distribution for the tokens\n",
    "pos_freq_dist = nltk.FreqDist(pos_tokens)\n",
    "\n",
    "#get top 50 tokens and their count\n",
    "labels = [element[0] for element in pos_freq_dist.most_common(50)]\n",
    "counts = [element[1] for element in pos_freq_dist.most_common(50)]\n",
    "\n",
    "#plot frequency distribution\n",
    "plt.figure(figsize=(15,5))\n",
    "plt.title(\"Top 50 Words in positive Corpus - Including STOPWORDS\")\n",
    "plt.ylabel(\"Count\")\n",
    "plt.xlabel(\"Word\")\n",
    "plt.xticks(rotation=45)\n",
    "plot = sns.barplot(labels,counts)"
   ]
  },
  {
   "cell_type": "markdown",
   "metadata": {},
   "source": [
    "### Section 3"
   ]
  },
  {
   "cell_type": "markdown",
   "metadata": {},
   "source": [
    "#### Q10. If you have to predict the sentiments then explain the ML life cycle in detail ?"
   ]
  },
  {
   "cell_type": "markdown",
   "metadata": {},
   "source": [
    "ML life cycle will start with the collection of text data -> cleaning the data, remove punctuation, special character etc. -> generalization and tokenization, removing stop words -> stemming/Lemmetization, convert words to base form -> feature extraction -> train the model using different algorithms for sentiment analysis -> save the model as classifier -> test the saved classifier on unseen data after feature extraction -> improve the accuracy by hyperparameter tuning -> deployment -> improve the model by collecting more data"
   ]
  },
  {
   "cell_type": "markdown",
   "metadata": {},
   "source": [
    "#### Q11. Identify the suitable embedding for input features and build a Machine Learning model to predict the sentiments ?"
   ]
  },
  {
   "cell_type": "markdown",
   "metadata": {},
   "source": [
    "Word Embedding represents words in a coordinate system where related words, based on a corpus of relationships, are placed closer together. In the deep learning frameworks such as TensorFlow, Keras, this part is usually handled by an embedding layer which stores a lookup table to map the words represented by numeric indexes to their dense vector representations. Hence, we will be using deep network embedding layer for input features.\n",
    "\n",
    "\n",
    "WordtoVec Embedding does not give a good result and hence, we will be sticking to deep networks embedding which gives around 95% accuracy"
   ]
  },
  {
   "cell_type": "code",
   "execution_count": 27,
   "metadata": {},
   "outputs": [
    {
     "data": {
      "text/html": [
       "<div>\n",
       "<style scoped>\n",
       "    .dataframe tbody tr th:only-of-type {\n",
       "        vertical-align: middle;\n",
       "    }\n",
       "\n",
       "    .dataframe tbody tr th {\n",
       "        vertical-align: top;\n",
       "    }\n",
       "\n",
       "    .dataframe thead th {\n",
       "        text-align: right;\n",
       "    }\n",
       "</style>\n",
       "<table border=\"1\" class=\"dataframe\">\n",
       "  <thead>\n",
       "    <tr style=\"text-align: right;\">\n",
       "      <th></th>\n",
       "      <th>Text</th>\n",
       "      <th>label</th>\n",
       "      <th>ID</th>\n",
       "    </tr>\n",
       "  </thead>\n",
       "  <tbody>\n",
       "    <tr>\n",
       "      <th>0</th>\n",
       "      <td>i didnt feel humiliated</td>\n",
       "      <td>0</td>\n",
       "      <td>W0</td>\n",
       "    </tr>\n",
       "    <tr>\n",
       "      <th>1</th>\n",
       "      <td>i can go from feeling so hopeless to so damned...</td>\n",
       "      <td>0</td>\n",
       "      <td>W1</td>\n",
       "    </tr>\n",
       "    <tr>\n",
       "      <th>2</th>\n",
       "      <td>im grabbing a minute to post i feel greedy wrong</td>\n",
       "      <td>0</td>\n",
       "      <td>W2</td>\n",
       "    </tr>\n",
       "    <tr>\n",
       "      <th>3</th>\n",
       "      <td>i am ever feeling nostalgic about the fireplac...</td>\n",
       "      <td>1</td>\n",
       "      <td>W3</td>\n",
       "    </tr>\n",
       "    <tr>\n",
       "      <th>4</th>\n",
       "      <td>i am feeling grouchy</td>\n",
       "      <td>0</td>\n",
       "      <td>W4</td>\n",
       "    </tr>\n",
       "  </tbody>\n",
       "</table>\n",
       "</div>"
      ],
      "text/plain": [
       "                                                Text  label  ID\n",
       "0                            i didnt feel humiliated      0  W0\n",
       "1  i can go from feeling so hopeless to so damned...      0  W1\n",
       "2   im grabbing a minute to post i feel greedy wrong      0  W2\n",
       "3  i am ever feeling nostalgic about the fireplac...      1  W3\n",
       "4                               i am feeling grouchy      0  W4"
      ]
     },
     "execution_count": 27,
     "metadata": {},
     "output_type": "execute_result"
    }
   ],
   "source": [
    "#check the data\n",
    "\n",
    "harassment.head()"
   ]
  },
  {
   "cell_type": "code",
   "execution_count": 28,
   "metadata": {},
   "outputs": [],
   "source": [
    "#data to train the model\n",
    "x_train=harassment.loc[:12000,'Text'].values\n",
    "y_train=harassment.loc[:12000,'label'].values\n",
    "\n",
    "# data to validate the model\n",
    "x_test=harassment.loc[12001:15000,'Text'].values\n",
    "y_test=harassment.loc[12001:15000,'label'].values\n",
    "\n",
    "#unseen data for testing\n",
    "x_val=harassment.loc[15001:,'Text'].values\n",
    "y_val=harassment.loc[15001:,'label'].values"
   ]
  },
  {
   "cell_type": "code",
   "execution_count": 29,
   "metadata": {},
   "outputs": [],
   "source": [
    "tokenizer_obj= Tokenizer()\n",
    "total_data= harassment.loc[:15000,'Text'].values\n",
    "tokenizer_obj.fit_on_texts(total_data)\n",
    "\n",
    "max_len=max([len(s.split()) for s in total_data])\n",
    "\n",
    "vocab_size= len(tokenizer_obj.word_index)+1\n",
    "\n",
    "#encode the text data so that each word is represented by a unique integer\n",
    "x_train_tokens=tokenizer_obj.texts_to_sequences(x_train)\n",
    "x_test_tokens= tokenizer_obj.texts_to_sequences(x_test)\n",
    "\n",
    "#add padding to make all the vectors of same length (max_length)\n",
    "x_train_pad=pad_sequences(x_train_tokens, maxlen=max_len,padding='post')\n",
    "x_test_pad=pad_sequences(x_test_tokens, maxlen=max_len,padding='post')"
   ]
  },
  {
   "cell_type": "code",
   "execution_count": 30,
   "metadata": {},
   "outputs": [
    {
     "name": "stdout",
     "output_type": "stream",
     "text": [
      "Model Building\n"
     ]
    }
   ],
   "source": [
    "EMBEDDING_DIM=100\n",
    "\n",
    "print('Model Building')\n",
    "\n",
    "model= Sequential()\n",
    "\n",
    "#embedding layer is the first hidden layer\n",
    "model.add(Embedding(vocab_size,EMBEDDING_DIM,input_length=max_len))\n",
    "\n",
    "model.add(GRU(units=32, dropout=0.2))\n",
    "\n",
    "#fully connected layer\n",
    "model.add(Dense(1,activation='sigmoid'))\n",
    "\n",
    "model.compile(loss='binary_crossentropy',optimizer='adam',metrics=['accuracy'])"
   ]
  },
  {
   "cell_type": "markdown",
   "metadata": {},
   "source": [
    "We can see from below training epochs that the model after few epoch is improving the accuracy. After a few epochs we reach validation accuracy of around 97%. "
   ]
  },
  {
   "cell_type": "code",
   "execution_count": 31,
   "metadata": {},
   "outputs": [
    {
     "name": "stdout",
     "output_type": "stream",
     "text": [
      "train model\n",
      "Epoch 1/20\n",
      "94/94 - 8s - loss: 0.6852 - accuracy: 0.5619 - val_loss: 0.6804 - val_accuracy: 0.5797\n",
      "Epoch 2/20\n",
      "94/94 - 6s - loss: 0.6851 - accuracy: 0.5649 - val_loss: 0.6808 - val_accuracy: 0.5797\n",
      "Epoch 3/20\n",
      "94/94 - 6s - loss: 0.6852 - accuracy: 0.5649 - val_loss: 0.6805 - val_accuracy: 0.5797\n",
      "Epoch 4/20\n",
      "94/94 - 6s - loss: 0.6848 - accuracy: 0.5649 - val_loss: 0.6804 - val_accuracy: 0.5797\n",
      "Epoch 5/20\n",
      "94/94 - 7s - loss: 0.6851 - accuracy: 0.5649 - val_loss: 0.6804 - val_accuracy: 0.5797\n",
      "Epoch 6/20\n",
      "94/94 - 7s - loss: 0.6848 - accuracy: 0.5649 - val_loss: 0.6805 - val_accuracy: 0.5797\n",
      "Epoch 7/20\n",
      "94/94 - 7s - loss: 0.6856 - accuracy: 0.5649 - val_loss: 0.6810 - val_accuracy: 0.5797\n",
      "Epoch 8/20\n",
      "94/94 - 7s - loss: 0.6849 - accuracy: 0.5649 - val_loss: 0.6808 - val_accuracy: 0.5797\n",
      "Epoch 9/20\n",
      "94/94 - 6s - loss: 0.6849 - accuracy: 0.5649 - val_loss: 0.6808 - val_accuracy: 0.5797\n",
      "Epoch 10/20\n",
      "94/94 - 7s - loss: 0.6848 - accuracy: 0.5649 - val_loss: 0.6804 - val_accuracy: 0.5797\n",
      "Epoch 11/20\n",
      "94/94 - 7s - loss: 0.6849 - accuracy: 0.5651 - val_loss: 0.6809 - val_accuracy: 0.5797\n",
      "Epoch 12/20\n",
      "94/94 - 8s - loss: 0.6847 - accuracy: 0.5656 - val_loss: 0.6809 - val_accuracy: 0.5797\n",
      "Epoch 13/20\n",
      "94/94 - 7s - loss: 0.6845 - accuracy: 0.5664 - val_loss: 0.6805 - val_accuracy: 0.5797\n",
      "Epoch 14/20\n",
      "94/94 - 7s - loss: 0.6851 - accuracy: 0.5656 - val_loss: 0.6810 - val_accuracy: 0.5797\n",
      "Epoch 15/20\n",
      "94/94 - 6s - loss: 0.6843 - accuracy: 0.5661 - val_loss: 0.6805 - val_accuracy: 0.5797\n",
      "Epoch 16/20\n",
      "94/94 - 6s - loss: 0.6835 - accuracy: 0.5676 - val_loss: 0.6800 - val_accuracy: 0.5803\n",
      "Epoch 17/20\n",
      "94/94 - 6s - loss: 0.6087 - accuracy: 0.6701 - val_loss: 0.3798 - val_accuracy: 0.8557\n",
      "Epoch 18/20\n",
      "94/94 - 6s - loss: 0.1890 - accuracy: 0.9333 - val_loss: 0.1139 - val_accuracy: 0.9610\n",
      "Epoch 19/20\n",
      "94/94 - 6s - loss: 0.0431 - accuracy: 0.9863 - val_loss: 0.0796 - val_accuracy: 0.9740\n",
      "Epoch 20/20\n",
      "94/94 - 6s - loss: 0.0136 - accuracy: 0.9967 - val_loss: 0.0766 - val_accuracy: 0.9773\n"
     ]
    },
    {
     "data": {
      "text/plain": [
       "<tensorflow.python.keras.callbacks.History at 0x29f8962ed30>"
      ]
     },
     "execution_count": 31,
     "metadata": {},
     "output_type": "execute_result"
    }
   ],
   "source": [
    "#train the model\n",
    "\n",
    "print ('train model')\n",
    "\n",
    "model.fit(x_train_pad,y_train, batch_size=128,epochs=20, validation_data=(x_test_pad,y_test),verbose=2)"
   ]
  },
  {
   "cell_type": "markdown",
   "metadata": {},
   "source": [
    "Check the model on unseen data and see how the model is predicting the sentiments."
   ]
  },
  {
   "cell_type": "code",
   "execution_count": 32,
   "metadata": {},
   "outputs": [],
   "source": [
    "#encode the text data so that each word is represented by a unique integer\n",
    "test_samples_token=tokenizer_obj.texts_to_sequences(x_val)\n",
    "\n",
    "#add padding to make all the vectors of same length as of train data (max_length)\n",
    "test_samples_token_pad=pad_sequences(test_samples_token,maxlen=max_len)"
   ]
  },
  {
   "cell_type": "code",
   "execution_count": 39,
   "metadata": {},
   "outputs": [],
   "source": [
    "#predict on new data\n",
    "pred=model.predict(x=test_samples_token_pad)\n",
    "\n",
    "#one hot encoding for the predictions\n",
    "pred=np.concatenate(pred).ravel()\n",
    "pred_binary=np.where(pred>0.5,1,0)"
   ]
  },
  {
   "cell_type": "code",
   "execution_count": 40,
   "metadata": {},
   "outputs": [
    {
     "name": "stdout",
     "output_type": "stream",
     "text": [
      "predicted    0    1\n",
      "real               \n",
      "0          230   15\n",
      "1            5  177\n"
     ]
    }
   ],
   "source": [
    "#get confusion matrix for predictions\n",
    "\n",
    "outcome=pd.DataFrame(list(zip(pred_binary,y_val)),columns=['predicted','real'])\n",
    "k=pd.crosstab(outcome['real'],outcome[\"predicted\"])\n",
    "print(k)"
   ]
  },
  {
   "cell_type": "code",
   "execution_count": 41,
   "metadata": {},
   "outputs": [
    {
     "data": {
      "text/plain": [
       "0.9465240641711229"
      ]
     },
     "execution_count": 41,
     "metadata": {},
     "output_type": "execute_result"
    }
   ],
   "source": [
    "f1_score(outcome['real'],outcome[\"predicted\"])"
   ]
  },
  {
   "cell_type": "code",
   "execution_count": 42,
   "metadata": {},
   "outputs": [
    {
     "data": {
      "text/plain": [
       "0.9531615925058547"
      ]
     },
     "execution_count": 42,
     "metadata": {},
     "output_type": "execute_result"
    }
   ],
   "source": [
    "accuracy_score(outcome['real'],outcome[\"predicted\"])"
   ]
  },
  {
   "cell_type": "markdown",
   "metadata": {},
   "source": [
    "#### Q12. Idenify the suitable Model validation matrix and explain why you have chosen the same ?"
   ]
  },
  {
   "cell_type": "markdown",
   "metadata": {},
   "source": [
    "Suitable validation matrix in this case could be Accuracy. The data has positive rate of 43.19 which means the data is more or less balanced and accuracy is good measure for validation in case of balanced data."
   ]
  },
  {
   "cell_type": "markdown",
   "metadata": {},
   "source": [
    "Accuray: 95.31%"
   ]
  },
  {
   "cell_type": "markdown",
   "metadata": {},
   "source": [
    "#### Q13. What are the model serialization techniques ?"
   ]
  },
  {
   "cell_type": "markdown",
   "metadata": {},
   "source": [
    "Serialization is the process of translating data structures or object state into a format that can be stored or transmitted and reconstructed later.In serialization, an object is transformed into a format that can be stored, so as to be able to deserialize it later and recreate the original object from the serialized format in the context of data storage.\n",
    "\n",
    "Few of the model serialization techniques are:\n",
    "\n",
    "JSON: Any Python object can be serialized into JSON format and vice versa.Without involving any objects as well, JSON strings can be formed and interchanged between any two processes, client and server as data.Several REST APIs and web services return data as JSON. Even the error messages from the REST APIs are returned as JSON strings.\n",
    "\n",
    "Pickle: Pickling is the process whereby a Python object hierarchy is converted into a byte stream (usually not human readable) to be written to a file.Pickle is operationally simplest way to store the object. The Python Pickle module is an object-oriented way to store objects directly in a special storage format.\n",
    "\n",
    "Joblib: The joblib package provides dump and load functions for serializing Python objects, with particular optimizations for large numpy arrays. It is intended to be a drop-in replacement for pickle and can be effective for sklearn models which store lots of data internally, such as random forest or cluster-based classifiers.\n",
    "\n",
    "dill: The dill package extends the functionality of pickle by enabling the serialization of a much larger set of Python objects\n",
    "Example of manually saving and restoring objects using JSON. This approach allows us to select the data which needs to be saved, such as the model parameters, coefficients, training data, and anything else we need.\n",
    "\n",
    "hdf5: Keras is a simple and powerful Python library for deep learning.We can save keras model from disk using .h5 file and load them up again to make predictions."
   ]
  },
  {
   "cell_type": "markdown",
   "metadata": {},
   "source": [
    "#### Q14. Leverage the best serialization technique and convert your model ?"
   ]
  },
  {
   "cell_type": "markdown",
   "metadata": {},
   "source": [
    "Since I have built keras model for prediction of sentiments, the best serialization technique is hdf5."
   ]
  },
  {
   "cell_type": "code",
   "execution_count": 43,
   "metadata": {},
   "outputs": [
    {
     "name": "stdout",
     "output_type": "stream",
     "text": [
      "Saved model to disk\n"
     ]
    }
   ],
   "source": [
    "# save model and architecture to single file\n",
    "model.save(\"harassment_model.h5\")\n",
    "print(\"Saved model to disk\")"
   ]
  },
  {
   "cell_type": "code",
   "execution_count": 44,
   "metadata": {},
   "outputs": [
    {
     "name": "stdout",
     "output_type": "stream",
     "text": [
      "Model: \"sequential\"\n",
      "_________________________________________________________________\n",
      "Layer (type)                 Output Shape              Param #   \n",
      "=================================================================\n",
      "embedding (Embedding)        (None, 66, 100)           1468300   \n",
      "_________________________________________________________________\n",
      "gru (GRU)                    (None, 32)                12864     \n",
      "_________________________________________________________________\n",
      "dense (Dense)                (None, 1)                 33        \n",
      "=================================================================\n",
      "Total params: 1,481,197\n",
      "Trainable params: 1,481,197\n",
      "Non-trainable params: 0\n",
      "_________________________________________________________________\n"
     ]
    }
   ],
   "source": [
    "# Saved model can then be loaded later by calling the load_model() function and passing\n",
    "# the filename. The function returns the model with the same architecture and weights.\n",
    "# load and evaluate a saved model\n",
    "\n",
    " \n",
    "# load model\n",
    "model = load_model('harassment_model.h5')\n",
    "# summarize model.\n",
    "model.summary()"
   ]
  },
  {
   "cell_type": "code",
   "execution_count": 47,
   "metadata": {},
   "outputs": [
    {
     "name": "stdout",
     "output_type": "stream",
     "text": [
      "predicted    0    1\n",
      "real               \n",
      "0          230   15\n",
      "1            5  177\n"
     ]
    }
   ],
   "source": [
    "#check if loaded model works properly\n",
    "\n",
    "pred=model.predict(x=test_samples_token_pad)\n",
    "\n",
    "#one hot encoding for the predictions\n",
    "pred=np.concatenate(pred).ravel()\n",
    "pred_binary=np.where(pred>0.5,1,0)\n",
    "\n",
    "outcome=pd.DataFrame(list(zip(pred_binary,y_val)),columns=['predicted','real'])\n",
    "k=pd.crosstab(outcome['real'],outcome[\"predicted\"])\n",
    "print(k)"
   ]
  },
  {
   "cell_type": "code",
   "execution_count": null,
   "metadata": {},
   "outputs": [],
   "source": [
    "#_______________________________________END_______________________________________________"
   ]
  }
 ],
 "metadata": {
  "kernelspec": {
   "display_name": "Python 3",
   "language": "python",
   "name": "python3"
  },
  "language_info": {
   "codemirror_mode": {
    "name": "ipython",
    "version": 3
   },
   "file_extension": ".py",
   "mimetype": "text/x-python",
   "name": "python",
   "nbconvert_exporter": "python",
   "pygments_lexer": "ipython3",
   "version": "3.8.3"
  }
 },
 "nbformat": 4,
 "nbformat_minor": 2
}
